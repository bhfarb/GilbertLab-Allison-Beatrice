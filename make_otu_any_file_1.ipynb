{
 "cells": [
  {
   "cell_type": "markdown",
   "metadata": {},
   "source": [
    "# Make OTU Table from many file types"
   ]
  },
  {
   "cell_type": "markdown",
   "metadata": {},
   "source": [
    "The purpose of this program is, using inputs, to take a variety of file types as an input and to output an OTU table and other analysis based on user preferences."
   ]
  },
  {
   "cell_type": "code",
   "execution_count": 2,
   "metadata": {
    "collapsed": false
   },
   "outputs": [],
   "source": [
    "import zipfile\n",
    "import os\n",
    "import subprocess\n",
    "import sys\n",
    "\n",
    "from IPython.display import FileLinks, FileLink\n",
    "from functools import partial\n",
    "from os import chdir"
   ]
  },
  {
   "cell_type": "markdown",
   "metadata": {},
   "source": [
    "--main asks user for inputs of file paths and preferences, runs all functions, outputs an OTU table"
   ]
  },
  {
   "cell_type": "code",
   "execution_count": null,
   "metadata": {
    "collapsed": false
   },
   "outputs": [],
   "source": [
    "def main():\n",
    "    username = input(\"What is the name of your user profile on your computer? The outputs from this program will be located in your user folder. \")\n",
    "    output_folder = input(\"What is the name of the output folder you would like to create? \") \n",
    "    qiime_path = input(\"What is the path to macqiime on your computer, including the 'macqiime' folder. \")\n",
    "\n",
    "    out_path =  \"/Users\"+ \"/\" + username + \"/\" + output_folder\n",
    "    if not os.path.exists(out_path):\n",
    "        os.makedirs(out_path)\n",
    "    \n",
    "    #orig_seqs is the path to the original inputted sequence, including the file name\n",
    "    orig_seqs = input(\"What is the path to the DNA sequencing file, including the file name? \")\n",
    "    \n",
    "    #seqs_final is path to final sequencing file, including the file name\n",
    "    seqs_final = det_seq_file_type(orig_seqs, out_path)\n",
    "    \n",
    "    clustering_method = input(\"What method would you like to use for clustering (denovo, open, closed)? \")\n",
    "    if (clustering_method != \"denovo\") or (clustering_method != \"open\") or (clustering_method != \"closed\"):\n",
    "        clustering_method = input(\"Please input one of the three options for clustering (denovo, open, closed). \")\n",
    "    \n",
    "    platform_type = input(\"What platform are you using: Illumina or 454? \")\n",
    "    if (platform_type != \"Illumina\") or (platform_type != \"454\"):\n",
    "        platform_type = input(\"Please input one of the two platform options(Illumina or 454). \")\n",
    "        \n",
    "    otufasta97 = qiime_path + '/anaconda/lib/python2.7/site_packages/qiime_default_reference/gg_13_8_otus/rep_set/97_otus.fasta'\n",
    "    \n",
    "    otutxt97  = qiime_path + '/anaconda/lib/python2.7/site_packages/qiime_default_reference/gg_13_8_otus/taxonomy/97_otu_taxonomy.txt'\n",
    "    \n",
    "    run_pipeline(seqs_final, out_path, username, clustering_method, otufasta97, otutxt97)"
   ]
  },
  {
   "cell_type": "markdown",
   "metadata": {},
   "source": [
    "inputs"
   ]
  },
  {
   "cell_type": "markdown",
   "metadata": {},
   "source": [
    "main2 is for running in jupyter notebooks. not a part of the final program"
   ]
  },
  {
   "cell_type": "markdown",
   "metadata": {},
   "source": [
    "--det_seq_file_type input orig_seqes is file path to the original inputted sequences. calls apropriate function to convert sequences into one FASTA file. outputs path to final FASTA file."
   ]
  },
  {
   "cell_type": "code",
   "execution_count": null,
   "metadata": {
    "collapsed": true
   },
   "outputs": [],
   "source": [
    "def det_seq_file_type(orig_seqs, out_path):\n",
    "    parts = orig_seqs.split(\"/\")\n",
    "    file_name= parts[-1]\n",
    "    if \".fna\" in file_name or \".fasta\" in file_name or \".fa\" in file_name or \".fsa\" in file_name:\n",
    "        return orig_seqs\n",
    "    if \".zip\" in file_name:\n",
    "        return convert_zip(orig_seqs, out_path)\n",
    "    if \".\" not in file_name:\n",
    "        return convert_folder(orig_seqs, out_path)\n",
    "    if \".sff\" in file_name:\n",
    "        return convert_sff(orig_seqs, out_path)\n",
    "    if \".bam\" in file_name:\n",
    "        return convert_bam(orig_seqs, out_path)"
   ]
  },
  {
   "cell_type": "markdown",
   "metadata": {},
   "source": [
    "--convert_zip input orig_seqes is file path to the original inputted sequences, where they are in a zip folder. unzips file and calls det_seq_file_type() on unzipped file. outputs path to final FASTA file"
   ]
  },
  {
   "cell_type": "code",
   "execution_count": null,
   "metadata": {
    "collapsed": false
   },
   "outputs": [],
   "source": [
    "def convert_zip(orig_seqs, out_path):\n",
    "    parts = orig_seqs.split(\"/\")\n",
    "    file_name = parts[-1]\n",
    "    file_location = \"/\".join(parts[:-1])\n",
    "    \n",
    "    unzipped_folder_name = file_name[:-4]\n",
    "    \n",
    "    \n",
    "    zfile = zipfile.ZipFile(orig_seqs)\n",
    "    zfile.extractall(out_path + '/' + unzipped_folder_name)\n",
    "            \n",
    "    joined_data = det_seq_file_type(out_path + '/' + unzipped_folder_name, out_path)\n",
    "    \n",
    "    return joined_data"
   ]
  },
  {
   "cell_type": "markdown",
   "metadata": {},
   "source": [
    "3 cases:\n",
    "1. R1 and R2 in a folder\n",
    "2. R1, R2 and barcode\n",
    "3. subfolders, each containing R1 and R2 (multiple_joined_paired_ends)"
   ]
  },
  {
   "cell_type": "markdown",
   "metadata": {},
   "source": [
    "--convert_folder input orig_seqes is file path to the original inputted sequences, where this is a folder containing R1 and R2 reads, and possibly a file containing barcodes. outputs path to final FASTA file."
   ]
  },
  {
   "cell_type": "code",
   "execution_count": null,
   "metadata": {
    "collapsed": false
   },
   "outputs": [],
   "source": [
    "def convert_folder(orig_seqs, out_path):\n",
    "    files_in_folder = os.listdir(orig_seqs)\n",
    "\n",
    "    r1_files = 0\n",
    "    for f in files_in_folder:\n",
    "        if os.path.isdir(orig_seqs +'/'+ f):\n",
    "            return multiple_joins(orig_seqs, out_path)\n",
    "        elif not os.path.isdir(orig_seqs+ '/' + f):\n",
    "            if 'R1' in f:\n",
    "                r1_files+=1\n",
    "    if r1_files > 1:\n",
    "        return multiple_joins(orig_seqs, out_path)\n",
    "\n",
    "    r_one = \"\"\n",
    "    r_two = \"\"\n",
    "    barcodes = \"\"\n",
    "    joined_data = \"\"\n",
    "\n",
    "    parts = orig_seqs.split(\"/\")\n",
    "    file_location = \"/\".join(parts[:-1])\n",
    "    file_name = parts[-1]\n",
    "\n",
    "    for f in files_in_folder:\n",
    "        if \"R1\" in f or \"r1\" in f:\n",
    "            r_one = f\n",
    "        elif \"R2\" in f or \"r2\" in f:\n",
    "            r_two = f\n",
    "        elif \"barcodes\" or \"Barcodes\" in f:\n",
    "            barc = f\n",
    "\n",
    "    if barcodes == \"\":\n",
    "        forward = orig_seqs+ '/' + r_one\n",
    "        reverse = orig_seqs+ '/' + r_two\n",
    "\n",
    "        !join_paired_ends.py -f $forward -r $reverse -o $out_path\"/joined_data\"\n",
    "    else:\n",
    "        barc = orig_seqs + barcodes\n",
    "        !join_paired_ends -f $forward -r $reverse -b $barc -o $out_path'/joined_data'\n",
    "\n",
    "    return out_path + '/' + \"joined_data\""
   ]
  },
  {
   "cell_type": "markdown",
   "metadata": {},
   "source": [
    "case 3"
   ]
  },
  {
   "cell_type": "markdown",
   "metadata": {},
   "source": [
    "--multiple_joins input orig_seqes is file path to the original inputted sequences, where this is a folder containing subfolders, where each subfolder contains two files: R1 and R2 reads of the same sequence. outputs path to final FASTA file"
   ]
  },
  {
   "cell_type": "code",
   "execution_count": null,
   "metadata": {
    "collapsed": false
   },
   "outputs": [],
   "source": [
    "def multiple_joins(orig_seqs, out_path):\n",
    "    #Join the forward and reverse sequences\n",
    "    #Works for subfolders and mutiple files within one folder\n",
    "    !multiple_join_paired_ends.py -i $orig_seqs -o $out_path\"/joined_data\"\n",
    "\n",
    "    return out_path + '/' + \"joined_data\""
   ]
  },
  {
   "cell_type": "markdown",
   "metadata": {},
   "source": [
    "converts sff file, outputs path to FASTA file"
   ]
  },
  {
   "cell_type": "code",
   "execution_count": null,
   "metadata": {
    "collapsed": true
   },
   "outputs": [],
   "source": [
    "def convert_sff(orig_seqs, out_path):\n",
    "    parts = orig_seqs.split(\"/\")\n",
    "    file_location = \"/\".join(parts[:-1])\n",
    "    \n",
    "    !process_sff -i $orig_seqs -o $out_path\"/joined_data\"\n",
    "    return out_path+ '/' + \"joined_data\""
   ]
  },
  {
   "cell_type": "markdown",
   "metadata": {},
   "source": [
    "NEED TO FIGURE OUT --convert_bam input orig_seqes is file path to the original inputted sequences, where this is an bam file. outputs path to final FASTA file."
   ]
  },
  {
   "cell_type": "code",
   "execution_count": null,
   "metadata": {
    "collapsed": true
   },
   "outputs": [],
   "source": [
    "# def convert_bam(orig_seqs, out_path):\n",
    "#     bedtools bamtofastq [OPTIONS] -i orig_seqs -fq Fasting_Example.fna\n",
    "#     http://bedtools.readthedocs.io/en/latest/content/tools/bamtofastq.html"
   ]
  },
  {
   "cell_type": "code",
   "execution_count": null,
   "metadata": {
    "collapsed": false
   },
   "outputs": [],
   "source": [
    "def run_pipeline(seqs_final, out_path, username, clustering_method, otufasta97, otutext97,gg_13_5_fasta, gg_13_5_txt):\n",
    "    \n",
    "    #Remove the non-joined sequences. different for whether or not there are multiple libraries\n",
    "    in_joined_data = os.listdir(seqs_final)\n",
    "\n",
    "    n_dirs = 0\n",
    "    for f in in_joined_data:\n",
    "        if os.path.isdir(seqs_final+ '/' + f):\n",
    "            n_dirs+=1\n",
    "            to_delete_un1 = seqs_final + '/' + f +\"/fastqjoin.un1.fastq\"\n",
    "            to_delete_un2 = seqs_final + '/'  + f +\"/fastqjoin.un2.fastq\"\n",
    "            !rm -r $to_delete_un1\n",
    "            !rm -r $to_delete_un2\n",
    "\n",
    "    if n_dirs == 0:\n",
    "        !rm -r $seqs_final\"/fastqjoin.un1.fastq\"\n",
    "        !rm -r $seqs_final\"/fastqjoin.un2.fastq\"\n",
    "\n",
    "    # We are going to concatenate all the sequences into 1 to run \n",
    "    # Note the folder for the next step cannot contain this file.\n",
    "    \n",
    "    in_joined_data_2 = os.listdir(seqs_final)\n",
    "    filenames = []\n",
    "    \n",
    "    for f in in_joined_data_2:\n",
    "        if \"_L001_R1_001\" in f:\n",
    "            filenames.append(seqs_final + '/' + f + '/fastqjoin.join.fastq')\n",
    "            \n",
    "#     with open(seqs_final + \"/all_fastqjoin.join.fastq\", 'w') as outfile:\n",
    "#         for fname in filenames:\n",
    "#             with open(fname) as infile:\n",
    "#                 for line in infile:\n",
    "#                     outfile.write(line)\n",
    "    \n",
    "    \n",
    "#     # Use fastaQC to analyze the data and determine the quality of the reads\n",
    "#     ####!module load java\n",
    "#     !mkdir $out_path'/fastqc_results'\n",
    "#     !'/home/username/FastQC/fastqc/'$seqs_final'/all_fastqjoin.join.fastq' --outdir=$out_path'/fastqc_results'\n",
    "    \n",
    "    # Data seems fine. Allowing to use up to 3 reads below 30 of quality and only 1 N\n",
    "\n",
    "#     #Move all all_fastqjoin.join.fastq\n",
    "#     !mv $seqs_final\"/all_fastqjoin.join.fastq \"$seqs_final\"/fastqc_results\"\n",
    "\n",
    "    #Rename files in Python\n",
    "    chdir(seqs_final)\n",
    "    file_names = os.listdir(seqs_final)\n",
    "    for ifile in file_names:\n",
    "        os.rename(ifile, str.replace(ifile, \"_\", \"\"))\n",
    "\n",
    "#     # Make sure you remove the _L001_R1\n",
    "#     chdir(seqs_final)\n",
    "#     !rm -r *L001_R1_001\n",
    "\n",
    "\n",
    "    #Split libraries. includes saving the fasta files (see qiime parameters) using qiime. Determines how many files (more than 1 R1 or R2), split vs. multiple split.\n",
    "##should have an option to use a barcodes file (-b option in split_libraries.py)\n",
    "    \n",
    "    in_joined_data = os.listdir(seqs_final)\n",
    "    n_dirs = 0\n",
    "    for f in in_joined_data:\n",
    "        if os.path.isdir(seqs_final+ '/' + f):\n",
    "            n_dirs+=1\n",
    "    if n_dirs > 1:\n",
    "        !multiple_split_libraries_fastq.py -i $seqs_final -o $out_path'/split_data' --demultiplexing_method sampleid_by_file --include_input_dir_path --remove_filepath_in_name -p $out_path'/qiime_parameters.txt'\n",
    "    else:\n",
    "        !split_libraries_fastq.py -i $seqs_final -o $out_path'/split_data'\n",
    "    \n",
    "    \n",
    "    #Fixing the names\n",
    "    chdir(out_path+'/split_data')\n",
    "    #!sed 's/L001R1001//g' seqs.fastq > seqs_fixed.fastq \n",
    "    !sed 's/L001R1001//g' seqs.fna > seqs_fixed.fna\n",
    "\n",
    "##reference database is gg_13_8\n",
    "    !identify_chimeric_seqs.py -i $out_path'/split_data/seqs_fixed.fna' -m usearch61 -o $out_path'/usearch_checked_chimeras/' -r $otufasta97\n",
    "\n",
    "    !filter_fasta.py -f $out_path'/split_data/seqs_fixed.fna' -o $out_path'/seqs_nochimeras_filtered.fna' -s $out_path'/usearch_checked_chimeras/chimeras.txt' -n\n",
    "    \n",
    "\n",
    "\n",
    "## need to actually make OTU (this code must have gotten removed?)\n",
    "    \n",
    "    \n",
    "    if clustering_method == \"denovo\" or clustering_method == \"Denovo\":\n",
    "        !pick_otus.py -i $out_path'/seqs_nochimeras_filtered.fna' -o $out_path'/OTUclustering_denovo' -m uclust\n",
    "        otu_clust_path = '/OTUclustering_denovo'\n",
    "        !make_otu_table.py -i $out_path'/OTUclustering_denovo/seqs_nochimeras_filtered_otus.txt' -o $out_path$otu_clust_path'/otu_table_denovo.biom'\n",
    "        !biom convert -i $out_path$otu_clust_path'/otu_table_denovo.biom' -o $out_path'/otu_table_'$clustering_method'.txt' --table-type=\"OTU table\" --to-tsv \n",
    "        !biom convert -i $out_path$otu_clust_path'/otu_table_denovo.biom' -o $out_path'/otu_table_'$clustering_method'.json' --table-type=\"OTU table\" --to-json\n",
    "        !mkdir $out_path'/biom_summarize' \n",
    "        !biom summarize-table -i $out_path$otu_clust_path'/otu_table_denovo.biom' -o $out_path'/biom_summarize/otu_table_'$clustering_method'_sum.txt'\n",
    "        !biom summarize-table -i $out_path$otu_clust_path'/otu_table_denovo.biom' -o $out_path'/biom_summarize/otu_table_'$clustering_method'_sumq.txt'  --qualitative\n",
    "        \n",
    "    elif clustering_method == \"open\" or clustering_method == \"Open\":\n",
    "        !pick_open_reference_otus.py -i $out_path'/seqs_nochimeras_filtered.fna' -o $out_path'/OTUclustering_openreference_usearch' --reference_fp $otufasta97 -f -m usearch61 -p $out_path'/qiime_parameters.txt'\n",
    "        otu_clust_path = '/OTUclustering_openreference_usearch'\n",
    "        \n",
    "    elif clustering_method == \"closed\" or clustering_method == \"Closed\":  \n",
    "        !pick_closed_reference_otus.py -i $out_path'/seqs_nochimeras_filtered.fna' -o $out_path'/OTUclustering_closedreference' --reference_fp $otufasta97 -f -m usearch61 -p $out_path'/qiime_parameters.txt'\n",
    "        otu_clust_path = '/OTUclustering_closedreference'\n",
    "    \n",
    "    if clustering_method != \"denovo\" or clustering_method != \"Denovo\":\n",
    "        !biom convert -i $out_path$otu_clust_path'/otu_table_mc2_w_tax.biom' -o $out_path'/otu_table_'$clustering_method'.txt' --table-type=\"OTU table\" --to-tsv \n",
    "\n",
    "        !biom convert -i $out_path$otu_clust_path'/otu_table_mc2_w_tax.biom' -o $out_path'/otu_table_'$clustering_method'.json' --table-type=\"OTU table\" --to-json\n",
    "\n",
    "        # Summarize tables\n",
    "        !mkdir $out_path'/biom_summarize' \n",
    "        !biom summarize-table -i $out_path$otu_clust_path'/otu_table_mc2_w_tax.biom' -o $out_path'/biom_summarize/otu_table_'$clustering_method'_sum.txt'\n",
    "        !biom summarize-table -i $out_path$otu_clust_path'/otu_table_mc2_w_tax.biom' -o $out_path'/biom_summarize/otu_table_'$clustering_method'_sumq.txt'  --qualitative\n",
    "    \n",
    "    #======================================================================================================================\n",
    "    #PICRUST\n",
    "    #======================================================================================================================\n",
    "    \n"
   ]
  },
  {
   "cell_type": "code",
   "execution_count": 4,
   "metadata": {
    "collapsed": false
   },
   "outputs": [],
   "source": [
    "#What is the name of your user profile on your computer? The outputs from this program will be located in your user folder.\n",
    "username = 'user'\n",
    "\n",
    "##What is the name of the output folder you would like to create?\n",
    "output_folder = 'try_prac_files_open_3'\n",
    "\n",
    "##What is the path to macqiime on your computer, including the 'macqiime' folder.\n",
    "qiime_path = '/macqiime'\n",
    "\n",
    "out_path =  \"/Users\"+ \"/\" + username + \"/\" + output_folder\n",
    "if not os.path.exists(out_path):\n",
    "    os.makedirs(out_path)\n",
    "\n",
    "\n",
    "#orig_seqs is the path to the original inputted sequence, including the file name\n",
    "## What is the path to the DNA sequencing file, including the file name? \n",
    "orig_seqs = '/Users/user/Desktop/practice_sequencing_files'\n",
    "\n",
    "#seqs_final is path to final sequencing file, including the file name\n",
    "seqs_final = det_seq_file_type(orig_seqs, out_path)\n",
    "\n",
    "##What method would you like to use for clustering (denovo, open, closed)?\n",
    "clustering_method = 'open'\n",
    "\n",
    "## What platform type are you using? Illumina or 454?    \n",
    "platform_type = 'Illumina'\n",
    "\n",
    "##What is the path to gg_13_5?\n",
    "gg_13_5_path = '/Users/user/Desktop/Independent_Study/gg_13_5_otus'\n",
    "\n",
    "gg_13_5_fasta = gg_13_5_path + '/rep_set/97_otus.fasta'\n",
    "gg_13_5_txt = gg_13_5_path + '/taxonomy/97_otu_taxonomy.txt'\n",
    "\n",
    "#dont worry about this stuff rn\n",
    "otufasta97 = '/Users/user/Desktop/Independent_Study/gg_13_8_otus/rep_set/97_otus.fasta'\n",
    "\n",
    "otutxt97  = '/Users/user/Desktop/Independent_Study/gg_13_8_otus/taxonomy/97_otu_taxonomy.txt'\n",
    "\n"
   ]
  },
  {
   "cell_type": "code",
   "execution_count": null,
   "metadata": {
    "collapsed": true
   },
   "outputs": [],
   "source": [
    "##Use the below section to if you would like to set custom parameters\n",
    "##If you do not want to set custom parameters, the default QIIME parameters will be used\n",
    "\n",
    "#Split_libraries_fastq parameters\n",
    "max_bad_run_length = 3\n",
    "quality_threshold = 30\n",
    "sequence_max_n = 1\n",
    "store_demultiplexed_fastq = True\n",
    "#Pick_otus parameters \n",
    "similarity = .9\n",
    "# valid usearch_sort_methods include \"abundance\", \"length\", or \"None\"\n",
    "usearch61_sort_method = \"abundance\"\n",
    "sizeorder = True\n",
    "\n",
    "\n",
    "parameter_file = open(out_path + \"/qiime_parameters.txt\", \"w+\")\n",
    "\n",
    "parameter_file.write(\"# Parameters for defining split_libraries and pick_otus \\n\")\n",
    "parameter_file.write((\"split_libraries_fastq:max_bad_run_length \") + str(max_bad_run_length) + \" \\n\")\n",
    "parameter_file.write(('split_libraries_fastq:phred_quality_threshold ') + str(quality_threshold) + \" \\n\")\n",
    "parameter_file.write((\"split_libraries_fastq:sequence_max_n \") + str(sequence_max_n) + \" \\n\")\n",
    "parameter_file.write((\"split_libraries_fastq:store_demultiplexed_fastq\") + str(store_demultiplexed_fastq) + \" \\n\")\n",
    "parameter_file.write((\"pick_otus:similarity \") + str(similarity) + \" \\n\")\n",
    "parameter_file.write((\"pick_otus:usearch61_sort_method \") + usearch61_sort_method + \" \\n\")\n",
    "parameter_file.write((\"pick_otus:sizeorder \") + str(sizeorder))\n",
    "\n",
    "parameter_file.close()"
   ]
  },
  {
   "cell_type": "code",
   "execution_count": null,
   "metadata": {
    "collapsed": false
   },
   "outputs": [],
   "source": [
    "#run through the pipeline\n",
    "run_pipeline(seqs_final, out_path, username, clustering_method, otufasta97, otutxt97, gg_13_5_fasta, gg_13_5_txt)"
   ]
  },
  {
   "cell_type": "code",
   "execution_count": null,
   "metadata": {
    "collapsed": false
   },
   "outputs": [],
   "source": [
    "!mkdir $out_path'/PICRUST_outputs'"
   ]
  },
  {
   "cell_type": "code",
   "execution_count": null,
   "metadata": {
    "collapsed": false
   },
   "outputs": [],
   "source": [
    "!identify_chimeric_seqs.py -i $out_path'/split_data/seqs_fixed.fna' -m usearch61 -o $out_path'/PICRUST_outputs/usearch_checked_chimeras/' -r $gg_13_5_fasta"
   ]
  },
  {
   "cell_type": "code",
   "execution_count": null,
   "metadata": {
    "collapsed": false
   },
   "outputs": [],
   "source": [
    "!filter_fasta.py -f $out_path'/split_data/seqs_fixed.fna' -o $out_path'/PICRUST_outputs/seqs_nochimeras_filtered.fna' -s $out_path'/PICRUST_outputs/usearch_checked_chimeras/chimeras.txt' -n\n"
   ]
  },
  {
   "cell_type": "code",
   "execution_count": null,
   "metadata": {
    "collapsed": false
   },
   "outputs": [],
   "source": [
    "output_otu = '/PICRUST_outputs/OTUclustering_closed'\n",
    "!pick_otus.py -i $out_path'/PICRUST_outputs/seqs_nochimeras_filtered.fna' -o $out_path$output_otu --refseqs_fp $gg_13_5_fasta -m usearch61_ref  --suppress_new_clusters\n"
   ]
  },
  {
   "cell_type": "code",
   "execution_count": null,
   "metadata": {
    "collapsed": false
   },
   "outputs": [],
   "source": [
    "!make_otu_table.py -i $out_path$output_otu'/seqs_nochimeras_filtered_otus.txt' --taxonomy $gg_13_5_txt -o $out_path'/PICRUST_outputs/otu_table.biom'\n"
   ]
  },
  {
   "cell_type": "code",
   "execution_count": null,
   "metadata": {
    "collapsed": false
   },
   "outputs": [],
   "source": [
    "!pick_rep_set.py -i $out_path$output_otu'/seqs_nochimeras_filtered_otus.txt' -o $out_path'/PICRUST_outputs/rep_set.fna' -f $out_path\"/PICRUST_outputs/seqs_nochimeras_filtered.fna\"\n"
   ]
  },
  {
   "cell_type": "code",
   "execution_count": null,
   "metadata": {
    "collapsed": false
   },
   "outputs": [],
   "source": [
    "!assign_taxonomy.py -i $out_path'/PICRUST_outputs/rep_set.fna' -o $out_path'/AssignTaxa' -r $gg_13_5_fasta -t $gg_13_5_txt\n"
   ]
  },
  {
   "cell_type": "code",
   "execution_count": null,
   "metadata": {
    "collapsed": false
   },
   "outputs": [],
   "source": [
    "!align_seqs.py -i $out_path'/PICRUST_outputs/rep_set.fna' -o $out_path'/PICRUST_outputs/RepSeqAligmenment' -t $'/Users/user/Desktop/Independent_Study/gg_13_5_otus/rep_set_aligned/97_otus.fasta'\n"
   ]
  },
  {
   "cell_type": "code",
   "execution_count": null,
   "metadata": {
    "collapsed": false
   },
   "outputs": [],
   "source": [
    "!filter_alignment.py -i $out_path'/PICRUST_outputs/RepSeqAligmenment/rep_set_aligned.fasta' -o $out_path'/PICRUST_outputs/FilterAlignment'\n"
   ]
  },
  {
   "cell_type": "code",
   "execution_count": null,
   "metadata": {
    "collapsed": false
   },
   "outputs": [],
   "source": [
    "!make_phylogeny.py -i $out_path'/PICRUST_outputs/FilterAlignment/rep_set_aligned_pfiltered.fasta' -o $out_path'/PICRUST_outputs/refset.tree'\n"
   ]
  },
  {
   "cell_type": "code",
   "execution_count": null,
   "metadata": {
    "collapsed": true
   },
   "outputs": [],
   "source": [
    "!biom convert -i $out_path'/PICRUST_outputs/otu_table.biom' -o $out_path'/PICRUST_outputs/otu_table.txt' --table-type=\"OTU table\" --to-tsv \n"
   ]
  },
  {
   "cell_type": "code",
   "execution_count": null,
   "metadata": {
    "collapsed": true
   },
   "outputs": [],
   "source": [
    "!biom convert -i $out_path'/PICRUST_outputs/otu_table.biom' -o $out_path'/PICRUST_outputs/otu_table.json' --table-type=\"OTU table\" --to-json"
   ]
  },
  {
   "cell_type": "code",
   "execution_count": null,
   "metadata": {
    "collapsed": true
   },
   "outputs": [],
   "source": [
    "!mkdir $out_path'/PICRUST_outputs/biom_summarize'\n"
   ]
  },
  {
   "cell_type": "code",
   "execution_count": null,
   "metadata": {
    "collapsed": true
   },
   "outputs": [],
   "source": [
    "!biom summarize-table -i $out_path'/PICRUST_outputs/otu_table.biom' -o $out_path'/PICRUST_outputs/biom_summarize/otu_table_sum.txt'\n"
   ]
  },
  {
   "cell_type": "code",
   "execution_count": null,
   "metadata": {
    "collapsed": true
   },
   "outputs": [],
   "source": [
    "!biom summarize-table -i $out_path'/PICRUST_outputs/otu_table.biom' -o $out_path'/PICRUST_outputs/biom_summarize/otu_table_sumq.txt'  --qualitative \n"
   ]
  },
  {
   "cell_type": "markdown",
   "metadata": {},
   "source": [
    "NEED TO FIGURE THIS OUT FOR ALL COMPUTER TYPES (ONE CELL BELOW)\n",
    "\n",
    "- had to put the correct data files in the folder /macqiime/anaconda/lib/python2.7/site-packages/PICRUSt-1.1.0-py2.7.egg/picrust/data"
   ]
  },
  {
   "cell_type": "code",
   "execution_count": 1,
   "metadata": {
    "collapsed": false
   },
   "outputs": [
    {
     "name": "stdout",
     "output_type": "stream",
     "text": [
      "RuntimeError: module compiled against API version 9 but this version of numpy is 4\r\n",
      "Traceback (most recent call last):\r\n",
      "  File \"/macqiime/anaconda/bin/normalize_by_copy_number.py\", line 4, in <module>\r\n",
      "    __import__('pkg_resources').run_script('PICRUSt==1.1.0', 'normalize_by_copy_number.py')\r\n",
      "  File \"build/bdist.macosx-10.6-x86_64/egg/pkg_resources/__init__.py\", line 744, in run_script\r\n",
      "  File \"build/bdist.macosx-10.6-x86_64/egg/pkg_resources/__init__.py\", line 1499, in run_script\r\n",
      "  File \"/macqiime/anaconda/lib/python2.7/site-packages/PICRUSt-1.1.0-py2.7.egg/EGG-INFO/scripts/normalize_by_copy_number.py\", line 16, in <module>\r\n",
      "    from biom import load_table, Table\r\n",
      "  File \"/macqiime/anaconda/lib/python2.7/site-packages/biom/__init__.py\", line 51, in <module>\r\n",
      "    from .table import Table\r\n",
      "  File \"/macqiime/anaconda/lib/python2.7/site-packages/biom/table.py\", line 185, in <module>\r\n",
      "    from scipy.sparse import coo_matrix, csc_matrix, csr_matrix, isspmatrix, vstack\r\n",
      "  File \"/macqiime/anaconda/lib/python2.7/site-packages/scipy/sparse/__init__.py\", line 212, in <module>\r\n",
      "    from .csr import *\r\n",
      "  File \"/macqiime/anaconda/lib/python2.7/site-packages/scipy/sparse/csr.py\", line 13, in <module>\r\n",
      "    from ._sparsetools import csr_tocsc, csr_tobsr, csr_count_blocks, \\\r\n",
      "ImportError: numpy.core.multiarray failed to import\r\n"
     ]
    }
   ],
   "source": [
    "!normalize_by_copy_number.py -i $out_path'/PICRUST_outputs/otu_table.biom'  -o $out_path'/PICRUST_outputs/norm.biom'\n"
   ]
  },
  {
   "cell_type": "code",
   "execution_count": null,
   "metadata": {
    "collapsed": false
   },
   "outputs": [],
   "source": [
    "!predict_metagenomes.py -i $out_path'/PICRUST_outputs/norm.biom' -o $out_path'/PICRUST_outputs/metagenome_predictions.biom' --with_confidence"
   ]
  },
  {
   "cell_type": "code",
   "execution_count": null,
   "metadata": {
    "collapsed": true
   },
   "outputs": [],
   "source": [
    "!categorize_by_function.py -i $out_path'/PICRUST_outputs/metagenome_predictions.biom' -c KEGG_Pathways -l 2 -o $out_path'/PICRUST_outputs/predicted_metagenomes.L2.biom'\n"
   ]
  },
  {
   "cell_type": "code",
   "execution_count": null,
   "metadata": {
    "collapsed": true
   },
   "outputs": [],
   "source": []
  },
  {
   "cell_type": "code",
   "execution_count": null,
   "metadata": {
    "collapsed": true
   },
   "outputs": [],
   "source": []
  },
  {
   "cell_type": "code",
   "execution_count": null,
   "metadata": {
    "collapsed": true
   },
   "outputs": [],
   "source": []
  },
  {
   "cell_type": "code",
   "execution_count": null,
   "metadata": {
    "collapsed": true
   },
   "outputs": [],
   "source": [
    "!mkdir $out_path'/PICRUST_outputs'\n",
    "\n",
    "#Use the version of GG available from PICRUST gg_13_5\n",
    "!identify_chimeric_seqs.py -i $out_path'/split_data/seqs_fixed.fna' -m usearch61 -o $out_path'/PICRUST_outputs/usearch_checked_chimeras/' -r $gg_13_5_fasta\n",
    "\n",
    "!filter_fasta.py -f $out_path'/split_data/seqs_fixed.fna' -o $out_path'/PICRUST_outputs/seqs_nochimeras_filtered.fna' -s $out_path'/PICRUST_outputs/usearch_checked_chimeras/chimeras.txt' -n\n",
    "\n",
    "\n",
    "#create OTU table without chimeras for PICRUST\n",
    "if clustering_method == \"denovo\" or clustering_method == \"Denovo\":\n",
    "    output_otu = '/PICRUST_outputs/OTUclustering_denovo'\n",
    "    !pick_otus.py -i $out_path'/PICRUST_outputs/seqs_nochimeras_filtered.fna' -o $out_path$output_otu -m uclust\n",
    "elif clustering_method == \"open\" or clustering_method ==\"Open\":\n",
    "    output_otu = '/PICRUST_outputs/OTUclustering_open'\n",
    "    !pick_otus.py -i $out_path'/PICRUST_outputs/seqs_nochimeras_filtered.fna' -o $out_path$output_otu --refseqs_fp $gg_13_5_fasta -m usearch61_ref  --suppress_new_clusters\n",
    "elif clustering_method == \"closed\" or clustering_method ==\"Closed\":\n",
    "    output_otu = '/PICRUST_outputs/OTUclustering_closed'\n",
    "    !pick_otus.py -i $out_path'/PICRUST_outputs/seqs_nochimeras_filtered.fna' -o $out_path$output_otu --refseqs_fp $gg_13_5_fasta -m usearch61_ref  --suppress_new_clusters\n",
    "\n",
    "\n",
    "!make_otu_table.py -i $out_path$output_otu'/seqs_nochimeras_filtered_otus.txt' --taxonomy $gg_13_5_txt -o $out_path'/PICRUST_outputs/otu_table.biom'\n",
    "\n",
    "!pick_rep_set.py -i $out_path$output_otu'/seqs_nochimeras_filtered_otus.txt' -o $out_path'/PICRUST_outputs/rep_set.fna' -f $out_path\"/PICRUST_outputs/seqs_nochimeras_filtered.fna\"\n",
    "\n",
    "!assign_taxonomy.py -i $out_path'/PICRUST_outputs/rep_set.fna' -o $out_path'/AssignTaxa' -r $gg_13_5_fasta -t $gg_13_5_txt\n",
    "\n",
    "#Align sequences in Qiime (Takes long for large datasets) \n",
    "!align_seqs.py -i $out_path'/PICRUST_outputs/rep_set.fna' -o $out_path'/PICRUST_outputs/RepSeqAligmenment' -t $gg_13_5_txt\n",
    "\n",
    "#Filter alignments \n",
    "!filter_alignment.py -i $out_path'/PICRUST_outputs/RepSeqAligmenment/rep_set_aligned.fasta' -o $out_path'/PICRUST_outputs/FilterAligment'\n",
    "\n",
    "#Make phylogeny -Same results with 85 than 97\n",
    "!make_phylogeny.py -i $out_path'/PICRUST_outputs/FilterAligment/rep_set_aligned_pfiltered.fasta' -o $out_path'PICRUST_outputs/refset.tree'\n",
    "\n",
    "!biom convert -i $out_path'/PICRUST_outputs/otu_table.biom' -o $out_path'/PICRUST_outputs/otu_table.txt' --table-type=\"OTU table\" --to-tsv \n",
    "\n",
    "!biom convert -i $out_path'/PICRUST_outputs/otu_table.biom' -o $out_path'/PICRUST_outputs/otu_table.json' --table-type=\"OTU table\" --to-json\n",
    "\n",
    "# Summarize tables\n",
    "!mkdir $out_path'/PICRUST_outputs/biom_summarize'\n",
    "!biom summarize-table -i $out_path'/PICRUST_outputs/otu_table.biom' -o $out_path'/PICRUST_outputs/biom_summarize/otu_table_sum.txt'\n",
    "!biom summarize-table -i $out_path'/PICRUST_outputs/otu_table.biom' -o $out_path'/PICRUST_outputs/biom_summarize/otu_table_sumq.txt'  --qualitative \n",
    "\n",
    "#Normalize by copy number\n",
    "# This part is done locally\n",
    "!normalize_by_copy_number.py -i $out_path'/PICRUST_outputs/otu_table.biom'  -o $out_path'/PICRUST_outputs/norm.biom'\n",
    "\n",
    "#Predict metagenomes\n",
    "!predict_metagenomes.py -i $out_path'/PICRUST_outputs/norm.biom' -o $out_path'/PICRUST_outputs/metagenome_predictions.biom' --with_confidence\n",
    "\n",
    "#Categorize by function with level 2 in KEGG\n",
    "!categorize_by_function.py -i $out_path'/PICRUST_outputs/metagenome_predictions.biom' -c KEGG_Pathways -l 2 -o $out_path'/PICRUST_outputs/predicted_metagenomes.L2.biom'\n",
    "\n",
    "#Categorize by function with level 2 in KEGG\n",
    "!categorize_by_function.py -i $out_path'/PICRUST_outputs/predicted_metagenomes.L2.biom' -c KEGG_Pathways -l 2 -o $out_path'/PICRUST_outputs/predicted_metagenomes.L2.txt' -f \n",
    "\n",
    "#Categorize by function with level 3 in KEGG\n",
    "!categorize_by_function.py -i $out_path'/PICRUST_outputs/predicted_metagenomes.L2.biom' -c KEGG_Pathways -l 3 -o $out_path'/PICRUST_outputs/predicted_metagenomes.L3.biom'\n",
    "\n",
    "#Categorize by function with level 3 in KEGG\n",
    "!categorize_by_function.py -i $out_path'/PICRUST_outputs/metagenome_predictions.biom' -c KEGG_Pathways -l 3 -o $out_path'/PICRUST_outputs/predicted_metagenomes.L3.txt' -f\n",
    "\n",
    "#Prediction of functions by OTUs\n",
    "!metagenome_contributions.py -i $out_path'/PICRUST_outputs/predicted_metagenomes.L3.biom'  -o $out_path'/PICRUST_outputs/ko_metagenome_contributions.tab'\n",
    "\n",
    "#Summarize metagenome by plots\n",
    "!summarize_taxa_through_plots.py -i $out_path'/PICRUST_outputs/predicted_metagenomes.L2.biom' -p qiime_params.txt -o $out_path'/PICRUST_outputs/plots_at_level2'\n",
    "\n"
   ]
  }
 ],
 "metadata": {
  "kernelspec": {
   "display_name": "Python 2",
   "language": "python",
   "name": "python2"
  },
  "language_info": {
   "codemirror_mode": {
    "name": "ipython",
    "version": 2
   },
   "file_extension": ".py",
   "mimetype": "text/x-python",
   "name": "python",
   "nbconvert_exporter": "python",
   "pygments_lexer": "ipython2",
   "version": "2.7.12"
  }
 },
 "nbformat": 4,
 "nbformat_minor": 0
}
